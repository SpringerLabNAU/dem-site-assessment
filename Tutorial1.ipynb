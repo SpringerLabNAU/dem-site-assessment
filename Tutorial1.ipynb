{
 "cells": [
  {
   "cell_type": "markdown",
   "id": "253086bd",
   "metadata": {},
   "source": [
    "# Tutorial 1 - Finding, Saving, and Loading Elevation Data for Your Study Area\n",
    "\n",
    "This notebook demonstrates a simple workflow for obtaining elevation data (DEM) for a study area using a shapefile and the National Map 30m DEM."
   ]
  },
  {
   "cell_type": "markdown",
   "id": "d031d360",
   "metadata": {},
   "source": [
    "## 1. Load Study Area Shapefile\n",
    "\n",
    "We'll use `geopandas` to load the study area shapefile located at `data/Study_Area`."
   ]
  },
  {
   "cell_type": "code",
   "execution_count": 2,
   "id": "407ef4a9",
   "metadata": {},
   "outputs": [
    {
     "name": "stderr",
     "output_type": "stream",
     "text": [
      "<>:4: SyntaxWarning: invalid escape sequence '\\S'\n",
      "<>:4: SyntaxWarning: invalid escape sequence '\\S'\n",
      "C:\\Users\\rl587\\AppData\\Local\\Temp\\ipykernel_35556\\2557443310.py:4: SyntaxWarning: invalid escape sequence '\\S'\n",
      "  shapefile_path = \"data\\Study_Area.shp\"\n"
     ]
    },
    {
     "name": "stdout",
     "output_type": "stream",
     "text": [
      "   Shape_Leng    Shape_Area                                           geometry\n",
      "0  6961.57906  2.758734e+06  POLYGON Z ((-12426957.64 4188869.122 0, -12426...\n"
     ]
    },
    {
     "data": {
      "text/plain": [
       "<Axes: >"
      ]
     },
     "execution_count": 2,
     "metadata": {},
     "output_type": "execute_result"
    },
    {
     "data": {
      "image/png": "[encoded data removed]",
      "text/plain": [
       "<Figure size 640x480 with 1 Axes>"
      ]
     },
     "metadata": {},
     "output_type": "display_data"
    }
   ],
   "source": [
    "import geopandas as gpd\n",
    "\n",
    "# Load the study area shapefile\n",
    "shapefile_path = \"data\\Study_Area.shp\"\n",
    "gdf = gpd.read_file(shapefile_path)\n",
    "\n",
    "# Display basic info\n",
    "print(gdf)\n",
    "gdf.plot(edgecolor='k', facecolor='none')"
   ]
  },
  {
   "cell_type": "markdown",
   "id": "3bff5663",
   "metadata": {},
   "source": [
    "## 2. Find Elevation Data for Your Area\n",
    "\n",
    "We'll use the National Map's Elevation Point Query Service to find a 30m DEM tile that covers our study area. For simplicity, we'll use the bounding box of the shapefile."
   ]
  },
  {
   "cell_type": "code",
   "execution_count": 4,
   "id": "86376661",
   "metadata": {},
   "outputs": [
    {
     "name": "stdout",
     "output_type": "stream",
     "text": [
      "DEM download URL: None\n"
     ]
    }
   ],
   "source": [
    "import requests\n",
    "\n",
    "# Get bounding box of study area\n",
    "bounds = gdf.total_bounds  # [minx, miny, maxx, maxy]\n",
    "minx, miny, maxx, maxy = bounds\n",
    "\n",
    "# National Map API endpoint for 3DEP 1 arc-second DEM (approx 30m)\n",
    "search_url = (\n",
    "    \"https://tnmaccess.nationalmap.gov/api/v1/products?\"\n",
    "    f\"bbox={minx},{miny},{maxx},{maxy}&datasets=3DEP_1\"\n",
    ")\n",
    "\n",
    "response = requests.get(search_url)\n",
    "data = response.json()\n",
    "\n",
    "# Find the first available DEM download URL\n",
    "dem_url = None\n",
    "for item in data.get(\"items\", []):\n",
    "    for link in item.get(\"downloadLinks\", []):\n",
    "        if link.endswith(\".tif\"):\n",
    "            dem_url = link\n",
    "            break\n",
    "    if dem_url:\n",
    "        break\n",
    "\n",
    "print(\"DEM download URL:\", dem_url)"
   ]
  },
  {
   "cell_type": "markdown",
   "id": "21b294b1",
   "metadata": {},
   "source": [
    "## 3. Download Elevation Data\n",
    "\n",
    "Download the DEM GeoTIFF file for the study area."
   ]
  },
  {
   "cell_type": "code",
   "execution_count": null,
   "id": "89ac870b",
   "metadata": {},
   "outputs": [],
   "source": [
    "import os\n",
    "\n",
    "output_dir = \"data\"\n",
    "os.makedirs(output_dir, exist_ok=True)\n",
    "dem_path = os.path.join(output_dir, \"study_area_dem.tif\")\n",
    "\n",
    "if dem_url:\n",
    "    dem_response = requests.get(dem_url, stream=True)\n",
    "    with open(dem_path, \"wb\") as f:\n",
    "        for chunk in dem_response.iter_content(chunk_size=8192):\n",
    "            f.write(chunk)\n",
    "    print(f\"DEM saved to {dem_path}\")\n",
    "else:\n",
    "    print(\"DEM URL not found. Please check the API response.\")"
   ]
  },
  {
   "cell_type": "markdown",
   "id": "7d38d9e5",
   "metadata": {},
   "source": [
    "## 4. Save the DEM or TIFF\n",
    "\n",
    "The DEM file has been saved as a GeoTIFF in the `data` folder."
   ]
  },
  {
   "cell_type": "markdown",
   "id": "9a554d84",
   "metadata": {},
   "source": [
    "## 5. Load and Display Elevation Data\n",
    "\n",
    "We'll use `rasterio` and `matplotlib` to load and visualize the elevation data."
   ]
  },
  {
   "cell_type": "code",
   "execution_count": null,
   "id": "68817f65",
   "metadata": {},
   "outputs": [],
   "source": [
    "import rasterio\n",
    "import matplotlib.pyplot as plt\n",
    "\n",
    "with rasterio.open(dem_path) as src:\n",
    "    elevation = src.read(1)\n",
    "    plt.figure(figsize=(8, 6))\n",
    "    plt.imshow(elevation, cmap=\"terrain\")\n",
    "    plt.colorbar(label=\"Elevation (m)\")\n",
    "    plt.title(\"Elevation Data (DEM)\")\n",
    "    plt.xlabel(\"X\")\n",
    "    plt.ylabel(\"Y\")\n",
    "    plt.show()"
   ]
  }
 ],
 "metadata": {
  "kernelspec": {
   "display_name": ".venv",
   "language": "python",
   "name": "python3"
  },
  "language_info": {
   "codemirror_mode": {
    "name": "ipython",
    "version": 3
   },
   "file_extension": ".py",
   "mimetype": "text/x-python",
   "name": "python",
   "nbconvert_exporter": "python",
   "pygments_lexer": "ipython3",
   "version": "3.13.0"
  }
 },
 "nbformat": 4,
 "nbformat_minor": 5
}
